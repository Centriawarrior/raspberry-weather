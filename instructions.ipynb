{
 "cells": [
  {
   "cell_type": "markdown",
   "metadata": {},
   "source": [
    "Instructions to prepare for mqtt demo\n",
    "\n",
    "The counterpart for python program mqttdemo2.py is mqttdemo2.html"
   ]
  },
  {
   "cell_type": "code",
   "execution_count": null,
   "metadata": {
    "vscode": {
     "languageId": "plaintext"
    }
   },
   "outputs": [],
   "source": [
    "# install python package management software pip\n",
    "sudo apt install python3-pip -y\n",
    "\n",
    "# verify\n",
    "pip3 --version\n",
    "\n",
    "# install virtual environment support\n",
    "sudo apt install python3-venv -y\n",
    "\n",
    "# create virtualenvironment for our project\n",
    "python3 -m venv mqttdemo\n",
    "\n",
    "# go to mqttdemo\n",
    "cd mqttdemo\n",
    "\n",
    "# copy my demo program\n",
    "wget demo.py from this repo\n",
    "\n",
    "# activate mqttdemo virtualenvironment\n",
    "source bin/activate\n",
    "\n",
    "\n",
    "# Install package paho.mqtt (or pip install paho-mqtt)\n",
    "pip install paho.mqtt\n",
    "\n",
    "# start the program\n",
    "python3 demo.py\n"
   ]
  },
  {
   "cell_type": "markdown",
   "metadata": {},
   "source": [
    "![fifth_example](example5.png)\n",
    "Figure 5 the webpage to look my Raspberry Pi temperature, pressure sensor value. Powered only when I have it."
   ]
  },
  {
   "cell_type": "markdown",
   "metadata": {},
   "source": [
    "![sixth_example](example6.png)\n",
    "Figure 6 Real example with Windows cmd and “weather station” website to see current values."
   ]
  }
 ],
 "metadata": {
  "language_info": {
   "name": "python"
  }
 },
 "nbformat": 4,
 "nbformat_minor": 2
}
