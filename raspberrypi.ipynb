{
 "cells": [
  {
   "cell_type": "markdown",
   "metadata": {},
   "source": [
    "# Weather Project: Raspberry Pi Measures Temperature and Pressure\n",
    "\n",
    "---"
   ]
  },
  {
   "cell_type": "markdown",
   "metadata": {},
   "source": [
    "Raspberry Pi is very popular among hobbyists, and it is also used in many R&D projects due to the vast amount of software available to Linux and the possibility to interface with sensors and actuators besides IP-network connectivity.\n",
    "\n",
    "\n",
    "## About\n",
    "\n",
    "The Weather Project leverages the versatility of the Raspberry Pi to measure and monitor temperature (°C) and pressure (hPa). This project integrates hardware and software to create a seamless system for collecting environmental data, processing it, and presenting it through an intuitive user interface. \n",
    "\n",
    "The core of this setup is the Raspberry Pi, connected to sensors capable of capturing precise temperature and pressure values. Using a web-based interface, users can interact with the system to monitor real-time data and control connected devices, such as a cooling system. \n",
    "\n",
    "This project serves as a practical example of how IoT technology can be applied to environmental monitoring, demonstrating the use of MQTT to transfer data to the cloud for remote access and further analysis. Through the provided demonstrations, users will learn how to establish a wireless connection to Raspberry Pi, configure key-based SSH authentication, and deploy a web-based UI for device control. \n",
    "\n",
    "With its combination of hands-on learning and practical applications, this project is an excellent starting point for anyone interested in embedded systems, IoT, and sensor-based data collection.\n",
    "\n",
    "![overview1](example8.png)\n",
    "![overview2](example9.png)\n",
    "\n",
    "![overview3](example10.png)\n",
    "![overview4](example11.png)\n",
    "\n",
    "### Real example \n",
    "![sixth_example](example6.png)\n",
    "\n",
    "Figure shows Windows cmd and “weather station” website to see current values. "
   ]
  },
  {
   "cell_type": "markdown",
   "metadata": {},
   "source": [
    "## Prerequisites\n",
    "\n",
    "- Raspberry Pi\n",
    "- Memory card\n",
    "- Wi-Fi network\n",
    "- 5V power supply\n",
    "- A PC/MAC in the same IP-network as Raspberry Pi\n",
    "\n",
    "![Example](example1.png)\n",
    "\n",
    "**Figure 1:** Raspberry Pi, CC BY-SA 4.0 via Wikipedia Commons"
   ]
  },
  {
   "cell_type": "markdown",
   "id": "58022eeb",
   "metadata": {},
   "source": [
    "## Layout\n",
    "\n",
    "I set up a configuration where I can access the Raspberry Pi-based server wirelessly from computer. In this configuration, I didn't need to connect a keyboard or display to Raspberry Pi. If you want to set up a desktop configuration by yourself, please go look at this [information](https://www.raspberrypi.com/documentation/computers/getting-started.html) from Official documentation.\n",
    " \n",
    "![overview](example7.png)"
   ]
  },
  {
   "cell_type": "markdown",
   "metadata": {},
   "source": [
    "## Step by step guide to start\n",
    "\n",
    "1. Install Raspberry Pi Imager to your PC. This software is used to prepare a bootable SD card for Raspberry Pi.\n",
    "2. Follow the steps in [this guide](https://www.raspberrypi.org/documentation/installation/installing-images/README.md) and in the workshop-related video to prepare a bootable SD card for Raspberry Pi.\n",
    "3. When the card is written, install it in Raspberry Pi.\n",
    "4. Use SSH to connect to Raspberry Pi and configure key-based authentication.\n",
    "5. Test and install additional software that you will need in your projects."
   ]
  },
  {
   "cell_type": "markdown",
   "metadata": {},
   "source": [
    "## Demonstrations\n",
    "\n",
    "### Raspberry Pi-Based Cooler Control with Web-UI\n",
    "\n",
    "This demonstration illustrates the following: how to connect sensors to Raspberry Pi and how to use an embedded web server to provide a UI for users to control a device.\n",
    "\n",
    "![Second_example](example2.png)\n",
    "![Second_example_part2](example2_2.png)\n",
    "\n",
    "**Figure 2:** Web-UI for a Raspberry Pi-controlled cooler. The cooler controller has a BMP Pressure/Temperature sensor and a relay to control cooler power.\n",
    "\n",
    "---\n",
    "\n",
    "### IoT Demo – Transfer Sensor Values to Cloud via MQTT\n",
    "\n",
    "This demo illustrates how to use a Raspberry Pi or other device as an IoT-node that transfers measurement values or other data to a cloud service to enable remote monitoring and control.\n",
    "\n",
    "![third_example](example3.png)\n",
    "\n",
    "**Figure 3:** Cargo monitoring system (MQTT-based).\n",
    "\n",
    "![fourth_example](example4.png)\n",
    "\n",
    "**Figure 4:** Indicator stays on if an overtemperature (> 25°C) event has occurred. It cannot be reset in the monitoring devices."
   ]
  },
  {
   "cell_type": "markdown",
   "id": "ee7c03c6",
   "metadata": {},
   "source": [
    "Code instructions to prepare for mqtt demo"
   ]
  },
  {
   "cell_type": "code",
   "execution_count": null,
   "id": "bc945bab",
   "metadata": {
    "vscode": {
     "languageId": "plaintext"
    }
   },
   "outputs": [],
   "source": [
    "# install python package management software pip\n",
    "sudo apt install python3-pip -y\n",
    "\n",
    "# verify\n",
    "pip3 --version\n",
    "\n",
    "# install virtual environment support\n",
    "sudo apt install python3-venv -y\n",
    "\n",
    "# create virtualenvironment for our project\n",
    "python3 -m venv mqttdemo\n",
    "\n",
    "# go to mqttdemo\n",
    "cd mqttdemo\n",
    "\n",
    "# copy my demo program\n",
    "wget demo.py from this repo\n",
    "\n",
    "# activate mqttdemo virtualenvironment\n",
    "source bin/activate\n",
    "\n",
    "\n",
    "# Install package paho.mqtt (or pip install paho-mqtt)\n",
    "pip install paho.mqtt\n",
    "\n",
    "# start the program\n",
    "python3 demo.py\n"
   ]
  },
  {
   "cell_type": "markdown",
   "id": "d379fd97",
   "metadata": {},
   "source": [
    "![fifth_example](example5.png)\n",
    "Figure shows snippet of the webpage to look my Raspberry Pi temperature and pressure sensor values. Powered only when I have it on."
   ]
  }
 ],
 "metadata": {
  "kernelspec": {
   "display_name": "Python 3",
   "language": "python",
   "name": "python3"
  },
  "language_info": {
   "codemirror_mode": {
    "name": "ipython",
    "version": 3
   },
   "file_extension": ".py",
   "mimetype": "text/x-python",
   "name": "python",
   "nbconvert_exporter": "python",
   "pygments_lexer": "ipython3",
   "version": "3.8.5"
  }
 },
 "nbformat": 4,
 "nbformat_minor": 5
}
