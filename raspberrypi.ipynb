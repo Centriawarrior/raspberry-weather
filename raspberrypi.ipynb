{
 "cells": [
  {
   "cell_type": "markdown",
   "metadata": {},
   "source": [
    "Weather project: Raspberry Pi measures Temperature: (°C) and Pressure: (hPa)  \n",
    "\n",
    "Overview \n",
    "![overview](example7.png)\n",
    "\n",
    "The diversity of platforms where Linux is used extends from small embedded systems to super computers and cloud systems. In this workshop we familiarize ourselves to one of the low-end platforms – Raspberry Pi. Raspberry Pi is very popular among hobbyists, and it is also used in many R&D projects due to vast amount of software available to Linux and possibility to interface with sensors and actuators besides IP-network connectivity.\n",
    "\n",
    "We set-up a configuration where you can access Raspberry Pi -based server wirelessly from your computer. In this configuration you don’t need to connect a keyboard or display to Raspberry Pi. If you want to set-up desktop configuration, look at this ![information](https://www.raspberrypi.com/documentation/computers/getting-started.html).\n",
    "\n",
    "Prerequisites\n",
    "\n",
    "- Raspberry Pi\n",
    "- Memory card\n",
    "- Wi-Fi network\n",
    "- 5V power supply\n",
    "- A PC/MAC in the same IP-network than Raspberry Pi\n",
    "\n",
    "![Example](example1.png)\n",
    "Figure 1 https://www.raspberrypi.org/, CC BY-SA 4.0 <https://creativecommons.org/licenses/by-sa/4.0>, via Wikipedia Commons \n",
    "\n",
    "Tasks\n",
    "\n",
    "1. Install Raspberry Pi Imager to your PC. This software is used to prepare a bootable SD-card for Raspberry Pi. 2. Follow the steps in https://www.raspberrypi.org/documentation/installation/installing-images/README.md and in the workshop related video to prepare a bootable SD-card for Raspberry Pi\n",
    "\n",
    "3. When card is written install it to Raspberry Pi\n",
    "\n",
    "4. Use SSH to connect to raspberry and configure key-based authentication\n",
    "\n",
    "5. Test and install additional software that you will need in your projects.\n",
    "\n",
    "Demonstrations\n",
    "\n",
    "Raspberry Pi based Cooler Control with Web-UI\n",
    "\n",
    "\n",
    "This demonstration illustrates the following things: how to connect sensors to Raspberry Pi and how to use an embedded webserver to provide UI for users to control a device.\n",
    "\n",
    "![Second_example](example2.png)\n",
    "![Second_example_part2](example2_2.png)\n",
    "Figure 2 Web-UI for a Raspberry Pi controlled cooler. Cooler controller has a BMP Pressure/Temperature sensor and a relay to control cooler power.\n",
    "\n",
    "IoT demo – transfer sensor values to cloud via MQTT\n",
    "\n",
    "\n",
    "This demo illustrates how to use a Raspberry Pi or other device as an IoT-node that transfers measurement values or other data to a cloud service to enable remote monitoring and control\n",
    "\n",
    "![third_example](example3.png)\n",
    "Figure 3 Cargo monitoring system (MQTT-based)\n",
    "\n",
    "![fourth_example](example4.png)\n",
    "Figure 4 Indicator stays on if overtemperature (< 25°C) event has occurred.\n",
    "It can't be reset in the monitoring devices.\n"
   ]
  }
 ],
 "metadata": {
  "language_info": {
   "name": "python"
  }
 },
 "nbformat": 4,
 "nbformat_minor": 2
}
