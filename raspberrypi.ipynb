{
 "cells": [
  {
   "cell_type": "markdown",
   "metadata": {},
   "source": [
    "# Weather Project: Raspberry Pi Measures Temperature and Pressure\n",
    "\n",
    "Temperature: (\u00b0C)\n",
    "Pressure: (hPa)\n",
    "\n",
    "---"
   ]
  },
  {
   "cell_type": "markdown",
   "metadata": {},
   "source": [
    "## Overview\n",
    "![overview](example7.png)\n",
    "\n",
    "The diversity of platforms where Linux is used extends from small embedded systems to supercomputers and cloud systems. In this workshop, we familiarize ourselves with one of the low-end platforms \u2013 Raspberry Pi.\n",
    "\n",
    "Raspberry Pi is very popular among hobbyists, and it is also used in many R&D projects due to the vast amount of software available to Linux and the possibility to interface with sensors and actuators besides IP-network connectivity.\n",
    "\n",
    "We set up a configuration where you can access the Raspberry Pi-based server wirelessly from your computer. In this configuration, you don\u2019t need to connect a keyboard or display to Raspberry Pi. If you want to set up a desktop configuration, look at this [information](https://www.raspberrypi.com/documentation/computers/getting-started.html)."
   ]
  },
  {
   "cell_type": "markdown",
   "metadata": {},
   "source": [
    "## Prerequisites\n",
    "\n",
    "- Raspberry Pi\n",
    "- Memory card\n",
    "- Wi-Fi network\n",
    "- 5V power supply\n",
    "- A PC/MAC in the same IP-network as Raspberry Pi\n",
    "\n",
    "![Example](example1.png)\n",
    "\n",
    "**Figure 1:** Raspberry Pi, CC BY-SA 4.0 via Wikipedia Commons"
   ]
  },
  {
   "cell_type": "markdown",
   "metadata": {},
   "source": [
    "## Tasks\n",
    "\n",
    "1. Install Raspberry Pi Imager to your PC. This software is used to prepare a bootable SD card for Raspberry Pi.\n",
    "2. Follow the steps in [this guide](https://www.raspberrypi.org/documentation/installation/installing-images/README.md) and in the workshop-related video to prepare a bootable SD card for Raspberry Pi.\n",
    "3. When the card is written, install it in Raspberry Pi.\n",
    "4. Use SSH to connect to Raspberry Pi and configure key-based authentication.\n",
    "5. Test and install additional software that you will need in your projects."
   ]
  },
  {
   "cell_type": "markdown",
   "metadata": {},
   "source": [
    "## Demonstrations\n",
    "\n",
    "### Raspberry Pi-Based Cooler Control with Web-UI\n",
    "\n",
    "This demonstration illustrates the following: how to connect sensors to Raspberry Pi and how to use an embedded web server to provide a UI for users to control a device.\n",
    "\n",
    "![Second_example](example2.png)\n",
    "![Second_example_part2](example2_2.png)\n",
    "\n",
    "**Figure 2:** Web-UI for a Raspberry Pi-controlled cooler. The cooler controller has a BMP Pressure/Temperature sensor and a relay to control cooler power.\n",
    "\n",
    "---\n",
    "\n",
    "### IoT Demo \u2013 Transfer Sensor Values to Cloud via MQTT\n",
    "\n",
    "This demo illustrates how to use a Raspberry Pi or other device as an IoT-node that transfers measurement values or other data to a cloud service to enable remote monitoring and control.\n",
    "\n",
    "![third_example](example3.png)\n",
    "\n",
    "**Figure 3:** Cargo monitoring system (MQTT-based).\n",
    "\n",
    "![fourth_example](example4.png)\n",
    "\n",
    "**Figure 4:** Indicator stays on if an overtemperature (< 25\u00b0C) event has occurred. It cannot be reset in the monitoring devices."
   ]
  }
 ],
 "metadata": {
  "kernelspec": {
   "display_name": "Python 3",
   "language": "python",
   "name": "python3"
  },
  "language_info": {
   "codemirror_mode": {
    "name": "ipython",
    "version": 3
   },
   "file_extension": ".py",
   "mimetype": "text/x-python",
   "name": "python",
   "nbconvert_exporter": "python",
   "pygments_lexer": "ipython3",
   "version": "3.8.5"
  }
 },
 "nbformat": 4,
 "nbformat_minor": 5
}
